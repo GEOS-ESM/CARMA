{
 "cells": [
  {
   "cell_type": "markdown",
   "id": "574dbb6d-ce3a-485d-a7f9-a6d55b5bd519",
   "metadata": {},
   "source": [
    "# PARMA: Python-wrapped CARMA\n",
    "## Example notebook for PARMA box model\n",
    "This is an example of how to run the CARMA box model interface using carma_box, compiled using f2py. For more information on how to run PARMA, see the README in the interfaces directory.\n",
    "\n",
    "Author: Parker Case\n",
    "\n",
    "Version: v0.1 (2023/10/13)"
   ]
  },
  {
   "cell_type": "code",
   "execution_count": 9,
   "id": "f05a3bac-ff85-48e0-a5e0-b92f28c3fea6",
   "metadata": {},
   "outputs": [],
   "source": [
    "import numpy as np\n",
    "import matplotlib.pyplot as plt\n",
    "from time import perf_counter\n",
    "from carma_box import carma_box\n",
    "import carma_tools.carmabins as carmabins\n",
    "from carma_tools.wetr import grow_v75"
   ]
  },
  {
   "cell_type": "markdown",
   "id": "56326a1b-f762-4453-8be7-d8f3171fe7b6",
   "metadata": {},
   "source": [
    "### Simulation parameters"
   ]
  },
  {
   "cell_type": "code",
   "execution_count": 15,
   "id": "24896d07-4797-4f0b-9ccc-c2e08298e8c7",
   "metadata": {},
   "outputs": [],
   "source": [
    "nt         = 768    # Number of timesteps (8 days)\n",
    "dt         = 900    # 900 second timestep\n",
    "t          = 220    # Temperature\n",
    "p          = 2400   # Bar\n",
    "h2o        = 125e-6 # Water vapor mass mixing ratio\n",
    "h2so4      = 4.7e-10 # Sulfuric acid vapor mass mixing ratio\n",
    "su         = np.asarray(\n",
    "             [4.2579942e-28, 1.5634370e-27, 1.1281235e-26, 7.5493089e-24, 4.6745146e-22,\n",
    "              1.1954208e-20, 1.5612010e-19, 1.3430505e-18, 2.1747372e-17, 1.5991898e-15,\n",
    "              6.5651301e-14, 1.1735656e-12, 1.3214742e-11, 7.1381352e-11, 2.0359722e-10,\n",
    "              3.1819103e-10, 1.3236401e-10, 1.2854880e-11, 3.6080232e-13, 2.5853792e-15,\n",
    "              4.4601091e-18, 2.1512019e-21, 2.8390088e-25, 5.5137755e-29]\n",
    "             )\n",
    "su_0       = su.copy()"
   ]
  },
  {
   "cell_type": "markdown",
   "id": "c03ed2c1-fc1e-4949-87a7-69f0dab0e3a5",
   "metadata": {},
   "source": [
    "### CARMA bin structure"
   ]
  },
  {
   "cell_type": "code",
   "execution_count": 13,
   "id": "82482fbc-5c1f-4b7b-b48b-9d0668877bbc",
   "metadata": {},
   "outputs": [],
   "source": [
    "nbins = 24\n",
    "rmrat = 3.7515201\n",
    "rmin  = 2.6686863e-8 # cm\n",
    "rhop  = 1.923 # g cm-3"
   ]
  },
  {
   "cell_type": "markdown",
   "id": "f93cbe03-cbf6-4795-bf29-902ba9eff79e",
   "metadata": {},
   "source": [
    "### Run the model!"
   ]
  },
  {
   "cell_type": "code",
   "execution_count": null,
   "id": "863882ed-de2a-449b-abf7-b78305275704",
   "metadata": {},
   "outputs": [],
   "source": [
    "time_0 = perf_counter()\n",
    "carma_box(rmrat, rmin, rhop, t, p, h2so4, h2o, su, dt, nt, nbins)\n",
    "time_1 = perf_counter()\n",
    "print('CARMA took ' + str(time_1-time_0) + ' seconds to run ' + str(nt) + ' timesteps.')\n",
    "print('Time per timestep = ' + str((time_1-time_0)/nt) + ' seconds')"
   ]
  },
  {
   "cell_type": "markdown",
   "id": "5e59305b-b149-4c80-982f-7fd498f540f6",
   "metadata": {},
   "source": [
    "### Convert to mKs units for analysis"
   ]
  },
  {
   "cell_type": "code",
   "execution_count": null,
   "id": "ec2b96b7-8bc8-47ff-ae4a-9cb4769d1006",
   "metadata": {},
   "outputs": [],
   "source": [
    "rhop = rhop * 1000 # kg m-3\n",
    "rmin = rmin * 1e-2 # m"
   ]
  },
  {
   "cell_type": "markdown",
   "id": "f5a9d7b0-b970-4078-a90e-50a7d77b3bac",
   "metadata": {},
   "source": [
    "### Build CARMA bin structure for analysis"
   ]
  },
  {
   "cell_type": "code",
   "execution_count": null,
   "id": "3893c246-cbd0-4089-a3cf-33816ff03ec2",
   "metadata": {},
   "outputs": [],
   "source": [
    "airdensity = 0.188 # kg m-3\n",
    "rmass, rmassup, r, rup, dr, rlow, masspart = carmabins.carmabins(nbins, rmrat, rmin, rhop)\n",
    "dndr_in  = su_0 / dr / (4/3 * np.pi * r**3 * rhop) * airdensity\n",
    "dndr_out = su / dr / (4/3 * np.pi * r**3 * rhop) * airdensity"
   ]
  },
  {
   "cell_type": "markdown",
   "id": "c8112896-c0ab-431e-b785-9ff76935627e",
   "metadata": {},
   "source": [
    "### Plot size distributions"
   ]
  },
  {
   "cell_type": "code",
   "execution_count": null,
   "id": "a9d2ba71-7987-4428-bc33-5011fc5caae9",
   "metadata": {},
   "outputs": [],
   "source": [
    "fig, axs = plt.subplots(3,1, figsize=(8,8))\n",
    "\n",
    "axs[0].loglog(r, dndr_in, '+', color='grey', label='t = 0 hours')\n",
    "axs[0].loglog(r, dndr_out, 'x', color='black', label='t = ' + str(nt*dt/3600) + ' hours')\n",
    "axs[0].legend()\n",
    "axs[0].set_title('Number Distribution (dN/dr)')\n",
    "axs[0].set_xlabel('Radius ($m$)')\n",
    "axs[0].set_ylabel('# / dr ($m^{-1}$)')\n",
    "axs[0].grid()\n",
    "\n",
    "axs[1].loglog(r, 4*np.pi*r**2*dndr_in, '+', color='grey', label='t = 0 hours')\n",
    "axs[1].loglog(r, 4*np.pi*r**2*dndr_out, 'x', color='black', label='t = ' + str(nt*dt/3600) + ' hours')\n",
    "axs[1].legend()\n",
    "axs[1].set_title('Surface Area Distribution (dA/dr)')\n",
    "axs[1].set_xlabel('Radius ($m$)')\n",
    "axs[1].set_ylabel('Surface Area / dr ($m^2\\ m^{-1}$)')\n",
    "axs[1].grid()\n",
    "\n",
    "axs[2].loglog(r, 4/3*np.pi*r**3*dndr_in, '+', color='grey', label='t = 0 hours')\n",
    "axs[2].loglog(r, 4/3*np.pi*r**3*dndr_out, 'x', color='black', label='t = ' + str(nt*dt/3600) + ' hours')\n",
    "axs[2].legend()\n",
    "axs[2].set_title('Volume Distribution (dV/dr)')\n",
    "axs[2].set_xlabel('Radius ($m$)')\n",
    "axs[2].set_ylabel('Volume / dr ($m^2\\ m^{-1}$)')\n",
    "axs[2].grid()"
   ]
  }
 ],
 "metadata": {
  "kernelspec": {
   "display_name": "Python [conda env:ml]",
   "language": "python",
   "name": "conda-env-ml-py"
  },
  "language_info": {
   "codemirror_mode": {
    "name": "ipython",
    "version": 3
   },
   "file_extension": ".py",
   "mimetype": "text/x-python",
   "name": "python",
   "nbconvert_exporter": "python",
   "pygments_lexer": "ipython3",
   "version": "3.9.15"
  }
 },
 "nbformat": 4,
 "nbformat_minor": 5
}
